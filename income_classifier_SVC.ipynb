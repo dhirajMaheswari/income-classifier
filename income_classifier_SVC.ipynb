{
 "cells": [
  {
   "cell_type": "markdown",
   "metadata": {},
   "source": [
    "This code is to analyze the income data, and to classify the income group using the SVC and LogisticRegression models. For each model, a five fold cross-validation is performed, and their scores are reported. Also presented is a confusion matrix and classification report."
   ]
  },
  {
   "cell_type": "code",
   "execution_count": 23,
   "metadata": {},
   "outputs": [],
   "source": [
    "import numpy as np\n",
    "import matplotlib.pyplot as plt\n",
    "from sklearn.preprocessing import LabelEncoder\n",
    "from sklearn.svm import LinearSVC\n",
    "from sklearn.multiclass import OneVsOneClassifier\n",
    "from sklearn.model_selection import train_test_split\n"
   ]
  },
  {
   "cell_type": "code",
   "execution_count": 2,
   "metadata": {},
   "outputs": [
    {
     "name": "stdout",
     "output_type": "stream",
     "text": [
      "(30162, 15)\n"
     ]
    }
   ],
   "source": [
    "# read data from file and convert it to numpy array\n",
    "input_file = 'income_data.txt'\n",
    "X,y = [],[]\n",
    "\n",
    "with open(input_file,'r') as f:\n",
    "    lines = f.readlines()\n",
    "    for line in lines:\n",
    "        if '?' in line:\n",
    "            continue\n",
    "        data = line[:-1].split(', ') # last character is a newline char '\\n', so skip that. hence the line[:-1]\n",
    "        # print(data)\n",
    "        X.append(data)\n",
    "\n",
    "\n",
    "X_data = []\n",
    "for x in X[:len(X)-1]:\n",
    "    X_data.append(x)\n",
    "\n",
    "X_data = np.array(X_data)\n",
    "print(X_data.shape)"
   ]
  },
  {
   "cell_type": "code",
   "execution_count": 4,
   "metadata": {},
   "outputs": [],
   "source": [
    "# encode the strings to numeric data. if some data is numeric, leave it alone, else encode it. \n",
    "label_encoder = [] \n",
    "X_encoded = np.empty(X_data.shape)\n",
    "for i,item in enumerate(X_data[0]):\n",
    "    if item.isdigit(): \n",
    "        X_encoded[:, i] = X_data[:, i]\n",
    "    else:\n",
    "        label_encoder.append(LabelEncoder())\n",
    "        X_encoded[:, i] = label_encoder[-1].fit_transform(X_data[:, i])\n",
    "\n",
    "XX = X_encoded[:, :-1].astype(int) #these are the data to train the algorithm, leave out the last column for predictors\n",
    "yy = X_encoded[:, -1].astype(int) #keep the last column for the target"
   ]
  },
  {
   "cell_type": "code",
   "execution_count": 31,
   "metadata": {},
   "outputs": [
    {
     "name": "stdout",
     "output_type": "stream",
     "text": [
      "OneVsOneClassifier(estimator=LinearSVC(dual=False, random_state=13))\n"
     ]
    }
   ],
   "source": [
    "# split data into training and testing set, and train the GaussianNB classifier\n",
    "X_train, X_test, y_train, y_test = train_test_split(XX, yy, test_size=0.2, random_state=42)\n",
    "classifier = OneVsOneClassifier(LinearSVC(random_state=13, dual=False))\n",
    "print(classifier)\n",
    "classifier.fit(X_train, y_train)\n",
    "y_test_pred = classifier.predict(X_test)"
   ]
  },
  {
   "cell_type": "code",
   "execution_count": 32,
   "metadata": {},
   "outputs": [
    {
     "name": "stdout",
     "output_type": "stream",
     "text": [
      "0.797380745161424\n",
      "0.7984419028675618\n"
     ]
    }
   ],
   "source": [
    "print(classifier.score(X_train, y_train))\n",
    "print(classifier.score(X_test, y_test))"
   ]
  },
  {
   "cell_type": "code",
   "execution_count": 35,
   "metadata": {},
   "outputs": [
    {
     "name": "stdout",
     "output_type": "stream",
     "text": [
      "CV Accuracy:\n",
      "[0.79197746 0.79711586 0.8030504  0.7936008  0.8002321 ] 0.7971953218395201\n",
      "F1 score: 76.07%\n"
     ]
    }
   ],
   "source": [
    "# perform 5 fold cross-validation for the accuracy\n",
    "from sklearn.model_selection import cross_val_score\n",
    "print(\"CV Accuracy:\")\n",
    "cvscores = cross_val_score(classifier,XX,yy,scoring='accuracy', cv=5)\n",
    "print(cvscores, cvscores.mean())\n",
    "f1 = cross_val_score(classifier, XX, yy, scoring='f1_weighted', cv=5)\n",
    "print (\"F1 score: \" + str(round(100*f1.mean(), 2)) + \"%\")\n"
   ]
  },
  {
   "cell_type": "code",
   "execution_count": 36,
   "metadata": {},
   "outputs": [
    {
     "name": "stdout",
     "output_type": "stream",
     "text": [
      "[[4405   98]\n",
      " [1118  412]]\n",
      "[4405   98 1118  412]\n",
      "              precision    recall  f1-score   support\n",
      "\n",
      "       <=50K       0.80      0.98      0.88      4503\n",
      "        >50K       0.81      0.27      0.40      1530\n",
      "\n",
      "    accuracy                           0.80      6033\n",
      "   macro avg       0.80      0.62      0.64      6033\n",
      "weighted avg       0.80      0.80      0.76      6033\n",
      "\n"
     ]
    }
   ],
   "source": [
    "from sklearn.metrics import confusion_matrix\n",
    "print(confusion_matrix(y_true=y_test, y_pred=y_test_pred))\n",
    "\n",
    "print(confusion_matrix(y_test, y_test_pred).ravel()) #this will print true negative, false positive, false negative, true positive\n",
    "\n",
    "from sklearn.metrics import classification_report\n",
    "target_names = ['<=50K', '>50K']\n",
    "print(classification_report(y_test, y_test_pred, target_names = target_names))"
   ]
  },
  {
   "cell_type": "code",
   "execution_count": 37,
   "metadata": {},
   "outputs": [
    {
     "name": "stdout",
     "output_type": "stream",
     "text": [
      "[   39     5 77516    12    13     4     0     1     4     1  2174     0\n",
      "    40    38]\n",
      "Predicted:  <=50K\n"
     ]
    }
   ],
   "source": [
    "# test the model on a single observation\n",
    "input_data = ['39', 'State-gov', '77516', 'Masters', '13', 'Never-married', 'Adm-clerical', 'Not-in-family', 'White', 'Male', '2174', '0', '40', 'United-States'] \n",
    "count = 0\n",
    "input_data_encoded = [-1] * len(input_data)\n",
    "\n",
    "for i,item in enumerate(input_data):\n",
    "    if item.isdigit():\n",
    "        input_data_encoded[i] = int(input_data[i])\n",
    "    else:\n",
    "        input_data_encoded[i] = int(label_encoder[count].transform([input_data[i]]))\n",
    "        count = count + 1 \n",
    "\n",
    "input_data_encoded = np.array(input_data_encoded)\n",
    "print(input_data_encoded)\n",
    "\n",
    "input_data_encoded = np.array(input_data_encoded).reshape(1,-1) # as our sample has one row, need to reshape it so it is compatible to predict function\n",
    "# Predict and print output for a particular datapoint\n",
    "output_class = classifier.predict(input_data_encoded)\n",
    "print (\"Predicted: \", label_encoder[-1].inverse_transform(output_class)[0])\n"
   ]
  },
  {
   "cell_type": "code",
   "execution_count": 42,
   "metadata": {},
   "outputs": [
    {
     "name": "stdout",
     "output_type": "stream",
     "text": [
      "LogisticRegression(max_iter=1000)\n"
     ]
    }
   ],
   "source": [
    "from sklearn.linear_model import LogisticRegression\n",
    "\n",
    "clf_lr = LogisticRegression(max_iter = 1000)\n",
    "print(clf_lr)\n",
    "clf_lr.fit(X_train, y_train)\n",
    "y_test_pred = clf_lr.predict(X_test)"
   ]
  },
  {
   "cell_type": "code",
   "execution_count": 43,
   "metadata": {},
   "outputs": [
    {
     "name": "stdout",
     "output_type": "stream",
     "text": [
      "0.7934435741224253\n",
      "0.792971987402619\n"
     ]
    }
   ],
   "source": [
    "print(clf_lr.score(X_train, y_train))\n",
    "print(clf_lr.score(X_test, y_test))"
   ]
  },
  {
   "cell_type": "code",
   "execution_count": 45,
   "metadata": {},
   "outputs": [
    {
     "name": "stdout",
     "output_type": "stream",
     "text": [
      "CV Accuracy:\n",
      "[0.78551301 0.79612133 0.79476127 0.79094828 0.78746684] 0.7909621474023727\n",
      "F1 score: 75.89%\n"
     ]
    }
   ],
   "source": [
    "print(\"CV Accuracy:\")\n",
    "cvscores = cross_val_score(clf_lr,XX,yy,scoring='accuracy', cv=5)\n",
    "print(cvscores, cvscores.mean())\n",
    "f1 = cross_val_score(clf_lr, XX, yy, scoring='f1_weighted', cv=5)\n",
    "print (\"F1 score: \" + str(round(100*f1.mean(), 2)) + \"%\")"
   ]
  },
  {
   "cell_type": "code",
   "execution_count": 47,
   "metadata": {},
   "outputs": [
    {
     "name": "stdout",
     "output_type": "stream",
     "text": [
      "[[4363  140]\n",
      " [1109  421]]\n",
      "[4363  140 1109  421]\n",
      "              precision    recall  f1-score   support\n",
      "\n",
      "       <=50K       0.80      0.97      0.87      4503\n",
      "        >50K       0.75      0.28      0.40      1530\n",
      "\n",
      "    accuracy                           0.79      6033\n",
      "   macro avg       0.77      0.62      0.64      6033\n",
      "weighted avg       0.79      0.79      0.76      6033\n",
      "\n"
     ]
    }
   ],
   "source": [
    "print(confusion_matrix(y_true=y_test, y_pred=y_test_pred))\n",
    "\n",
    "print(confusion_matrix(y_test, y_test_pred).ravel()) #this will print true negative, false positive, false negative, true positive\n",
    "\n",
    "# from sklearn.metrics import classification_report\n",
    "\n",
    "target_names = ['<=50K', '>50K']\n",
    "print(classification_report(y_test, y_test_pred, target_names = target_names))"
   ]
  },
  {
   "cell_type": "code",
   "execution_count": 54,
   "metadata": {},
   "outputs": [
    {
     "name": "stdout",
     "output_type": "stream",
     "text": [
      "[   74     5 77516    12    13     4     0     1     4     0  2174     0\n",
      "    40    38]\n",
      "Predicted:  <=50K\n"
     ]
    }
   ],
   "source": [
    "# test the model on a single observation\n",
    "input_data = ['74', 'State-gov', '77516', 'Masters', '13', 'Never-married', 'Adm-clerical', 'Not-in-family', 'White', 'Female', '2174', '0', '40', 'United-States'] \n",
    "count = 0\n",
    "input_data_encoded = [-1] * len(input_data)\n",
    "\n",
    "for i,item in enumerate(input_data):\n",
    "    if item.isdigit():\n",
    "        input_data_encoded[i] = int(input_data[i])\n",
    "    else:\n",
    "        input_data_encoded[i] = int(label_encoder[count].transform([input_data[i]]))\n",
    "        count = count + 1 \n",
    "\n",
    "input_data_encoded = np.array(input_data_encoded)\n",
    "print(input_data_encoded)\n",
    "\n",
    "input_data_encoded = np.array(input_data_encoded).reshape(1,-1) # as our sample has one row, need to reshape it so it is compatible to predict function\n",
    "# Predict and print output for a particular datapoint\n",
    "output_class = classifier.predict(input_data_encoded)\n",
    "print (\"Predicted: \", label_encoder[-1].inverse_transform(output_class)[0])\n"
   ]
  }
 ],
 "metadata": {
  "kernelspec": {
   "display_name": "base",
   "language": "python",
   "name": "python3"
  },
  "language_info": {
   "codemirror_mode": {
    "name": "ipython",
    "version": 3
   },
   "file_extension": ".py",
   "mimetype": "text/x-python",
   "name": "python",
   "nbconvert_exporter": "python",
   "pygments_lexer": "ipython3",
   "version": "3.11.3"
  }
 },
 "nbformat": 4,
 "nbformat_minor": 2
}
