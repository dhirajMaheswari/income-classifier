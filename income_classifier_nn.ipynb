{
 "cells": [
  {
   "cell_type": "markdown",
   "metadata": {},
   "source": [
    "This code shows how to use the Keras functional API to build a neural network with three hidden layers with 32, 16 and 8 nodes. The final output node has a sigmoid activation, as we are performing classification task."
   ]
  },
  {
   "cell_type": "code",
   "execution_count": 1,
   "metadata": {},
   "outputs": [
    {
     "name": "stdout",
     "output_type": "stream",
     "text": [
      "2.6.0\n",
      "[PhysicalDevice(name='/physical_device:CPU:0', device_type='CPU'), PhysicalDevice(name='/physical_device:GPU:0', device_type='GPU')]\n"
     ]
    }
   ],
   "source": [
    "import tensorflow as tf\n",
    "print(tf.__version__)\n",
    "print(tf.config.list_physical_devices())"
   ]
  },
  {
   "cell_type": "code",
   "execution_count": 2,
   "metadata": {},
   "outputs": [],
   "source": [
    "import numpy as np\n",
    "import matplotlib.pyplot as plt\n",
    "from keras.models import Model #Sequential\n",
    "from keras.layers import Input, Dense\n",
    "from keras.utils.vis_utils import plot_model\n",
    "\n",
    "from sklearn.preprocessing import LabelEncoder, StandardScaler\n",
    "from sklearn.model_selection import train_test_split"
   ]
  },
  {
   "cell_type": "code",
   "execution_count": 3,
   "metadata": {},
   "outputs": [
    {
     "name": "stdout",
     "output_type": "stream",
     "text": [
      "(30162, 15)\n"
     ]
    }
   ],
   "source": [
    "# read data from file and convert it to numpy array\n",
    "input_file = 'income_data.txt'\n",
    "X,y = [],[]\n",
    "\n",
    "with open(input_file,'r') as f:\n",
    "    lines = f.readlines()\n",
    "    for line in lines:\n",
    "        if '?' in line:\n",
    "            continue\n",
    "        data = line[:-1].split(', ') # last character is a newline char '\\n', so skip that. hence the line[:-1]\n",
    "        # print(data)\n",
    "        X.append(data)\n",
    "\n",
    "\n",
    "X_data = []\n",
    "for x in X[:len(X)-1]:\n",
    "    X_data.append(x)\n",
    "\n",
    "X_data = np.array(X_data)\n",
    "print(X_data.shape)"
   ]
  },
  {
   "cell_type": "code",
   "execution_count": 4,
   "metadata": {},
   "outputs": [],
   "source": [
    "# encode the strings to numeric data. if some data is numeric, leave it alone, else encode it. \n",
    "label_encoder = [] \n",
    "X_encoded = np.empty(X_data.shape)\n",
    "for i,item in enumerate(X_data[0]):\n",
    "    if item.isdigit(): \n",
    "        X_encoded[:, i] = X_data[:, i]\n",
    "    else:\n",
    "        label_encoder.append(LabelEncoder())\n",
    "        X_encoded[:, i] = label_encoder[-1].fit_transform(X_data[:, i])\n",
    "\n",
    "XX = X_encoded[:, :-1].astype(int) #these are the data to train the algorithm, leave out the last column for predictors\n",
    "yy = X_encoded[:, -1].astype(int) #keep the last column for the target\n"
   ]
  },
  {
   "cell_type": "code",
   "execution_count": 5,
   "metadata": {},
   "outputs": [],
   "source": [
    "X_train, X_test, y_train, y_test = train_test_split(XX, yy, test_size=0.2, random_state=42)\n"
   ]
  },
  {
   "cell_type": "code",
   "execution_count": 45,
   "metadata": {},
   "outputs": [
    {
     "name": "stdout",
     "output_type": "stream",
     "text": [
      "Model: \"model_1\"\n",
      "_________________________________________________________________\n",
      "Layer (type)                 Output Shape              Param #   \n",
      "=================================================================\n",
      "input (InputLayer)           [(None, 14)]              0         \n",
      "_________________________________________________________________\n",
      "hidden_layer_1 (Dense)       (None, 32)                480       \n",
      "_________________________________________________________________\n",
      "hidden_layer_2 (Dense)       (None, 16)                528       \n",
      "_________________________________________________________________\n",
      "hidden_layer_3 (Dense)       (None, 8)                 136       \n",
      "_________________________________________________________________\n",
      "dense_2 (Dense)              (None, 1)                 9         \n",
      "=================================================================\n",
      "Total params: 1,153\n",
      "Trainable params: 1,153\n",
      "Non-trainable params: 0\n",
      "_________________________________________________________________\n",
      "None\n"
     ]
    }
   ],
   "source": [
    "inputs = Input(shape=(X_train.shape[1],), name=\"input\")\n",
    "h1 = Dense(32, activation='relu', kernel_initializer='he_uniform', input_dim=inputs, name=\"hidden_layer_1\")(inputs)\n",
    "h2 = Dense(16, activation='relu', name=\"hidden_layer_2\")(h1)\n",
    "h3 = Dense(8, activation='relu', name=\"hidden_layer_3\")(h2)\n",
    "output = Dense(1, activation='sigmoid')(h3)\n",
    "\n",
    "model = Model(inputs=inputs, outputs=output)\n",
    "\n",
    "model.compile(optimizer='adam', loss='binary_crossentropy', metrics=['accuracy'])\n",
    "\n",
    "print(model.summary())\n",
    " \n"
   ]
  },
  {
   "cell_type": "code",
   "execution_count": 66,
   "metadata": {},
   "outputs": [
    {
     "name": "stdout",
     "output_type": "stream",
     "text": [
      "Help on function plot_model in module keras.utils.vis_utils:\n",
      "\n",
      "plot_model(model, to_file='model.png', show_shapes=False, show_dtype=False, show_layer_names=True, rankdir='TB', expand_nested=False, dpi=96, layer_range=None)\n",
      "    Converts a Keras model to dot format and save to a file.\n",
      "    \n",
      "    Example:\n",
      "    \n",
      "    ```python\n",
      "    input = tf.keras.Input(shape=(100,), dtype='int32', name='input')\n",
      "    x = tf.keras.layers.Embedding(\n",
      "        output_dim=512, input_dim=10000, input_length=100)(input)\n",
      "    x = tf.keras.layers.LSTM(32)(x)\n",
      "    x = tf.keras.layers.Dense(64, activation='relu')(x)\n",
      "    x = tf.keras.layers.Dense(64, activation='relu')(x)\n",
      "    x = tf.keras.layers.Dense(64, activation='relu')(x)\n",
      "    output = tf.keras.layers.Dense(1, activation='sigmoid', name='output')(x)\n",
      "    model = tf.keras.Model(inputs=[input], outputs=[output])\n",
      "    dot_img_file = '/tmp/model_1.png'\n",
      "    tf.keras.utils.plot_model(model, to_file=dot_img_file, show_shapes=True)\n",
      "    ```\n",
      "    \n",
      "    Args:\n",
      "      model: A Keras model instance\n",
      "      to_file: File name of the plot image.\n",
      "      show_shapes: whether to display shape information.\n",
      "      show_dtype: whether to display layer dtypes.\n",
      "      show_layer_names: whether to display layer names.\n",
      "      rankdir: `rankdir` argument passed to PyDot,\n",
      "          a string specifying the format of the plot:\n",
      "          'TB' creates a vertical plot;\n",
      "          'LR' creates a horizontal plot.\n",
      "      expand_nested: Whether to expand nested models into clusters.\n",
      "      dpi: Dots per inch.\n",
      "      layer_range: input of `list` containing two `str` items, which is the\n",
      "          starting layer name and ending layer name (both inclusive) indicating\n",
      "          the range of layers for which the plot will be generated. It also\n",
      "          accepts regex patterns instead of exact name. In such case, start\n",
      "          predicate will be the first element it matches to `layer_range[0]`\n",
      "          and the end predicate will be the last element it matches to\n",
      "          `layer_range[1]`. By default `None` which considers all layers of\n",
      "          model. Note that you must pass range such that the resultant subgraph\n",
      "          must be complete.\n",
      "    \n",
      "    Returns:\n",
      "      A Jupyter notebook Image object if Jupyter is installed.\n",
      "      This enables in-line display of the model plots in notebooks.\n",
      "\n",
      "None\n"
     ]
    }
   ],
   "source": [
    "print(help(plot_model))"
   ]
  },
  {
   "cell_type": "code",
   "execution_count": 69,
   "metadata": {},
   "outputs": [
    {
     "data": {
      "image/png": "[encoded data removed]",
      "text/plain": [
       "<IPython.core.display.Image object>"
      ]
     },
     "execution_count": 69,
     "metadata": {},
     "output_type": "execute_result"
    }
   ],
   "source": [
    "plot_model(model,to_file='income_classifier.png', show_shapes=True, show_dtype=True, show_layer_names=True)\n"
   ]
  },
  {
   "cell_type": "code",
   "execution_count": 54,
   "metadata": {},
   "outputs": [
    {
     "name": "stdout",
     "output_type": "stream",
     "text": [
      "Epoch 1/50\n",
      "378/378 [==============================] - 1s 2ms/step - loss: 27.2119 - accuracy: 0.6793 - val_loss: 4.1861 - val_accuracy: 0.5921\n",
      "Epoch 2/50\n",
      "378/378 [==============================] - 1s 2ms/step - loss: 17.9952 - accuracy: 0.6793 - val_loss: 47.1849 - val_accuracy: 0.7650\n",
      "Epoch 3/50\n",
      "378/378 [==============================] - 1s 2ms/step - loss: 19.3678 - accuracy: 0.6865 - val_loss: 15.4734 - val_accuracy: 0.7786\n",
      "Epoch 4/50\n",
      "378/378 [==============================] - 1s 2ms/step - loss: 22.6769 - accuracy: 0.6801 - val_loss: 12.4870 - val_accuracy: 0.7862\n",
      "Epoch 5/50\n",
      "378/378 [==============================] - 1s 2ms/step - loss: 19.2222 - accuracy: 0.6834 - val_loss: 12.5698 - val_accuracy: 0.7892\n",
      "Epoch 6/50\n",
      "378/378 [==============================] - 1s 2ms/step - loss: 19.0335 - accuracy: 0.6873 - val_loss: 3.8685 - val_accuracy: 0.7676\n",
      "Epoch 7/50\n",
      "378/378 [==============================] - 1s 2ms/step - loss: 18.6372 - accuracy: 0.6818 - val_loss: 10.6012 - val_accuracy: 0.7903\n",
      "Epoch 8/50\n",
      "378/378 [==============================] - 1s 2ms/step - loss: 23.1928 - accuracy: 0.6777 - val_loss: 5.6597 - val_accuracy: 0.7726\n",
      "Epoch 9/50\n",
      "378/378 [==============================] - 1s 2ms/step - loss: 15.1911 - accuracy: 0.6904 - val_loss: 26.8408 - val_accuracy: 0.7626\n",
      "Epoch 10/50\n",
      "378/378 [==============================] - 1s 2ms/step - loss: 16.2276 - accuracy: 0.6835 - val_loss: 14.7918 - val_accuracy: 0.2775\n",
      "Epoch 11/50\n",
      "378/378 [==============================] - 1s 3ms/step - loss: 11.4246 - accuracy: 0.6933 - val_loss: 14.2458 - val_accuracy: 0.7660\n",
      "Epoch 12/50\n",
      "378/378 [==============================] - 1s 3ms/step - loss: 20.1332 - accuracy: 0.6808 - val_loss: 15.5020 - val_accuracy: 0.7835\n",
      "Epoch 13/50\n",
      "378/378 [==============================] - 1s 3ms/step - loss: 11.8738 - accuracy: 0.6913 - val_loss: 6.2048 - val_accuracy: 0.7907\n",
      "Epoch 14/50\n",
      "378/378 [==============================] - 1s 2ms/step - loss: 8.8017 - accuracy: 0.6990 - val_loss: 28.0736 - val_accuracy: 0.7630\n",
      "Epoch 15/50\n",
      "378/378 [==============================] - 1s 2ms/step - loss: 11.5832 - accuracy: 0.6915 - val_loss: 12.5970 - val_accuracy: 0.7769\n",
      "Epoch 16/50\n",
      "378/378 [==============================] - 1s 2ms/step - loss: 10.2247 - accuracy: 0.6936 - val_loss: 23.0378 - val_accuracy: 0.7704\n",
      "Epoch 17/50\n",
      "378/378 [==============================] - 1s 2ms/step - loss: 11.8484 - accuracy: 0.6924 - val_loss: 19.9099 - val_accuracy: 0.7713\n",
      "Epoch 18/50\n",
      "378/378 [==============================] - 1s 2ms/step - loss: 14.9977 - accuracy: 0.6834 - val_loss: 11.3047 - val_accuracy: 0.7852\n",
      "Epoch 19/50\n",
      "378/378 [==============================] - 1s 3ms/step - loss: 9.1312 - accuracy: 0.6905 - val_loss: 17.1545 - val_accuracy: 0.7570\n",
      "Epoch 20/50\n",
      "378/378 [==============================] - 1s 3ms/step - loss: 9.7188 - accuracy: 0.6912 - val_loss: 1.5994 - val_accuracy: 0.7706\n",
      "Epoch 21/50\n",
      "378/378 [==============================] - 1s 2ms/step - loss: 8.0354 - accuracy: 0.6967 - val_loss: 4.3271 - val_accuracy: 0.7744\n",
      "Epoch 22/50\n",
      "378/378 [==============================] - 1s 2ms/step - loss: 8.2904 - accuracy: 0.6910 - val_loss: 21.3370 - val_accuracy: 0.2644\n",
      "Epoch 23/50\n",
      "378/378 [==============================] - 1s 2ms/step - loss: 10.0301 - accuracy: 0.6947 - val_loss: 32.2919 - val_accuracy: 0.2569\n",
      "Epoch 24/50\n",
      "378/378 [==============================] - 1s 2ms/step - loss: 7.6762 - accuracy: 0.6959 - val_loss: 5.4082 - val_accuracy: 0.3720\n",
      "Epoch 25/50\n",
      "378/378 [==============================] - 1s 2ms/step - loss: 7.2447 - accuracy: 0.6947 - val_loss: 6.7910 - val_accuracy: 0.7840\n",
      "Epoch 26/50\n",
      "378/378 [==============================] - 1s 2ms/step - loss: 7.6573 - accuracy: 0.6943 - val_loss: 1.4781 - val_accuracy: 0.7386\n",
      "Epoch 27/50\n",
      "378/378 [==============================] - 1s 3ms/step - loss: 10.1207 - accuracy: 0.6885 - val_loss: 5.7203 - val_accuracy: 0.7885\n",
      "Epoch 28/50\n",
      "378/378 [==============================] - 1s 3ms/step - loss: 5.7919 - accuracy: 0.6982 - val_loss: 9.9169 - val_accuracy: 0.7696\n",
      "Epoch 29/50\n",
      "378/378 [==============================] - 1s 2ms/step - loss: 6.3322 - accuracy: 0.6935 - val_loss: 9.9252 - val_accuracy: 0.7734\n",
      "Epoch 30/50\n",
      "378/378 [==============================] - 1s 2ms/step - loss: 5.5811 - accuracy: 0.6920 - val_loss: 1.4766 - val_accuracy: 0.6839\n",
      "Epoch 31/50\n",
      "378/378 [==============================] - 1s 2ms/step - loss: 4.9580 - accuracy: 0.7007 - val_loss: 0.9253 - val_accuracy: 0.7353\n",
      "Epoch 32/50\n",
      "378/378 [==============================] - 1s 2ms/step - loss: 6.9065 - accuracy: 0.6953 - val_loss: 4.0286 - val_accuracy: 0.7855\n",
      "Epoch 33/50\n",
      "378/378 [==============================] - 1s 3ms/step - loss: 4.5665 - accuracy: 0.6985 - val_loss: 5.2763 - val_accuracy: 0.7694\n",
      "Epoch 34/50\n",
      "378/378 [==============================] - 1s 3ms/step - loss: 5.0980 - accuracy: 0.6973 - val_loss: 1.5253 - val_accuracy: 0.7862\n",
      "Epoch 35/50\n",
      "378/378 [==============================] - 1s 3ms/step - loss: 3.6158 - accuracy: 0.7044 - val_loss: 0.9155 - val_accuracy: 0.7888\n",
      "Epoch 36/50\n",
      "378/378 [==============================] - 1s 2ms/step - loss: 4.5236 - accuracy: 0.6912 - val_loss: 2.8645 - val_accuracy: 0.7892\n",
      "Epoch 37/50\n",
      "378/378 [==============================] - 1s 2ms/step - loss: 4.8293 - accuracy: 0.6883 - val_loss: 12.1673 - val_accuracy: 0.7666\n",
      "Epoch 38/50\n",
      "378/378 [==============================] - 1s 2ms/step - loss: 2.5149 - accuracy: 0.7142 - val_loss: 9.4625 - val_accuracy: 0.7582\n",
      "Epoch 39/50\n",
      "378/378 [==============================] - 1s 2ms/step - loss: 3.7329 - accuracy: 0.6987 - val_loss: 10.9579 - val_accuracy: 0.7492\n",
      "Epoch 40/50\n",
      "378/378 [==============================] - 1s 2ms/step - loss: 3.2411 - accuracy: 0.7084 - val_loss: 1.0325 - val_accuracy: 0.5972\n",
      "Epoch 41/50\n",
      "378/378 [==============================] - 1s 3ms/step - loss: 2.2999 - accuracy: 0.7066 - val_loss: 3.9065 - val_accuracy: 0.7729\n",
      "Epoch 42/50\n",
      "378/378 [==============================] - 1s 3ms/step - loss: 3.3561 - accuracy: 0.6982 - val_loss: 6.9040 - val_accuracy: 0.7734\n",
      "Epoch 43/50\n",
      "378/378 [==============================] - 1s 2ms/step - loss: 1.9333 - accuracy: 0.7128 - val_loss: 1.8794 - val_accuracy: 0.7820\n",
      "Epoch 44/50\n",
      "378/378 [==============================] - 1s 2ms/step - loss: 1.7064 - accuracy: 0.7149 - val_loss: 1.7507 - val_accuracy: 0.7800\n",
      "Epoch 45/50\n",
      "378/378 [==============================] - 1s 2ms/step - loss: 1.9671 - accuracy: 0.7118 - val_loss: 1.7243 - val_accuracy: 0.7719\n",
      "Epoch 46/50\n",
      "378/378 [==============================] - 1s 2ms/step - loss: 1.2047 - accuracy: 0.7273 - val_loss: 2.4038 - val_accuracy: 0.7656\n",
      "Epoch 47/50\n",
      "378/378 [==============================] - 1s 2ms/step - loss: 1.3874 - accuracy: 0.7174 - val_loss: 0.4754 - val_accuracy: 0.7893\n",
      "Epoch 48/50\n",
      "378/378 [==============================] - 1s 3ms/step - loss: 0.9816 - accuracy: 0.7314 - val_loss: 0.6972 - val_accuracy: 0.7973\n",
      "Epoch 49/50\n",
      "378/378 [==============================] - 1s 3ms/step - loss: 0.9188 - accuracy: 0.7328 - val_loss: 0.4863 - val_accuracy: 0.7862\n",
      "Epoch 50/50\n",
      "378/378 [==============================] - 1s 2ms/step - loss: 0.7333 - accuracy: 0.7481 - val_loss: 0.8187 - val_accuracy: 0.7766\n"
     ]
    }
   ],
   "source": [
    "history = model.fit(X_train, y_train, epochs=50, batch_size=64, validation_data=(X_test, y_test), verbose=1)\n"
   ]
  },
  {
   "cell_type": "code",
   "execution_count": 70,
   "metadata": {},
   "outputs": [
    {
     "name": "stdout",
     "output_type": "stream",
     "text": [
      "['__class__', '__delattr__', '__dict__', '__dir__', '__doc__', '__eq__', '__format__', '__ge__', '__getattribute__', '__gt__', '__hash__', '__init__', '__init_subclass__', '__le__', '__lt__', '__module__', '__ne__', '__new__', '__reduce__', '__reduce_ex__', '__repr__', '__setattr__', '__sizeof__', '__str__', '__subclasshook__', '__weakref__', '_chief_worker_only', '_implements_predict_batch_hooks', '_implements_test_batch_hooks', '_implements_train_batch_hooks', '_keras_api_names', '_keras_api_names_v1', '_supports_tf_logs', 'epoch', 'history', 'model', 'on_batch_begin', 'on_batch_end', 'on_epoch_begin', 'on_epoch_end', 'on_predict_batch_begin', 'on_predict_batch_end', 'on_predict_begin', 'on_predict_end', 'on_test_batch_begin', 'on_test_batch_end', 'on_test_begin', 'on_test_end', 'on_train_batch_begin', 'on_train_batch_end', 'on_train_begin', 'on_train_end', 'params', 'set_model', 'set_params', 'validation_data']\n",
      "{'loss': [27.21185302734375, 17.995216369628906, 19.367769241333008, 22.67688751220703, 19.222213745117188, 19.033475875854492, 18.637182235717773, 23.192758560180664, 15.191144943237305, 16.227624893188477, 11.42455768585205, 20.133201599121094, 11.873842239379883, 8.801721572875977, 11.583157539367676, 10.22473430633545, 11.848394393920898, 14.997720718383789, 9.131196022033691, 9.718791007995605, 8.035390853881836, 8.29035758972168, 10.030125617980957, 7.676239490509033, 7.244664192199707, 7.657263278961182, 10.120721817016602, 5.791915416717529, 6.332217693328857, 5.581104278564453, 4.957987308502197, 6.906468391418457, 4.566529273986816, 5.097952842712402, 3.6157588958740234, 4.523596286773682, 4.829258918762207, 2.514932155609131, 3.732858657836914, 3.2411441802978516, 2.2998814582824707, 3.356079339981079, 1.9332576990127563, 1.7064274549484253, 1.9670816659927368, 1.2046594619750977, 1.3873783349990845, 0.9815688133239746, 0.9187681078910828, 0.733298659324646], 'accuracy': [0.6792656183242798, 0.6793485283851624, 0.6864768266677856, 0.6800944805145264, 0.6834099888801575, 0.6872642636299133, 0.6817936897277832, 0.6776907444000244, 0.6904140114784241, 0.68349289894104, 0.693273663520813, 0.6808404922485352, 0.6912843585014343, 0.6990343332290649, 0.6914501190185547, 0.6935637593269348, 0.6924448013305664, 0.6834099888801575, 0.6904969215393066, 0.6912014484405518, 0.6967135071754456, 0.6909942626953125, 0.6946827173233032, 0.695884644985199, 0.6947242021560669, 0.6943097710609436, 0.6885490417480469, 0.6981640458106995, 0.6934808492660522, 0.6920303106307983, 0.7006921172142029, 0.6952629685401917, 0.6985370516777039, 0.6973351836204529, 0.7043806314468384, 0.6911600232124329, 0.688258945941925, 0.7142442464828491, 0.6986613869667053, 0.7083592414855957, 0.70661860704422, 0.6982054710388184, 0.7127522826194763, 0.714948832988739, 0.7118405103683472, 0.7272990942001343, 0.7173939943313599, 0.731443464756012, 0.7328111529350281, 0.7481454014778137], 'val_loss': [4.186076641082764, 47.18492126464844, 15.473403930664062, 12.487024307250977, 12.569846153259277, 3.8684885501861572, 10.601194381713867, 5.659732818603516, 26.84082794189453, 14.791787147521973, 14.245800018310547, 15.502036094665527, 6.204832553863525, 28.07361602783203, 12.59699821472168, 23.037797927856445, 19.909921646118164, 11.304730415344238, 17.154481887817383, 1.599380612373352, 4.32707405090332, 21.336977005004883, 32.291908264160156, 5.408152103424072, 6.790963649749756, 1.478097677230835, 5.720327854156494, 9.916874885559082, 9.925220489501953, 1.476575493812561, 0.9253044724464417, 4.028646469116211, 5.276269912719727, 1.5252835750579834, 0.9154839515686035, 2.8644633293151855, 12.167312622070312, 9.462481498718262, 10.957901000976562, 1.0325242280960083, 3.906492233276367, 6.903951644897461, 1.8794065713882446, 1.7506588697433472, 1.7243387699127197, 2.403841495513916, 0.47544002532958984, 0.6972119808197021, 0.4863032400608063, 0.8186783194541931], 'val_accuracy': [0.5920768976211548, 0.7649593949317932, 0.7785512804985046, 0.7861760258674622, 0.7891595959663391, 0.7676114439964294, 0.7903199195861816, 0.7725841403007507, 0.7626388072967529, 0.27747389674186707, 0.7659538984298706, 0.7835239768028259, 0.7906514406204224, 0.7629703283309937, 0.7768937349319458, 0.7704293131828308, 0.7712580561637878, 0.7851815223693848, 0.757003128528595, 0.7705950736999512, 0.7744074463844299, 0.26437923312187195, 0.2569202780723572, 0.3719542622566223, 0.7840211987495422, 0.7386043667793274, 0.7884966135025024, 0.769600510597229, 0.7734128832817078, 0.6839051842689514, 0.7352892160415649, 0.7855129837989807, 0.7694347500801086, 0.7861760258674622, 0.7888281345367432, 0.7891595959663391, 0.766616940498352, 0.7581634521484375, 0.7492126822471619, 0.5972152948379517, 0.7729156017303467, 0.7734128832817078, 0.7820321321487427, 0.7800431251525879, 0.7719210982322693, 0.7656224370002747, 0.7893253564834595, 0.7972816228866577, 0.7861760258674622, 0.7765622138977051]}\n",
      "{'verbose': 1, 'epochs': 50, 'steps': 378}\n"
     ]
    }
   ],
   "source": [
    "print(dir(history))\n",
    "print(history.history)\n",
    "print(history.params)"
   ]
  },
  {
   "cell_type": "code",
   "execution_count": 55,
   "metadata": {},
   "outputs": [
    {
     "name": "stdout",
     "output_type": "stream",
     "text": [
      "189/189 [==============================] - 0s 2ms/step - loss: 0.7692 - accuracy: 0.7799\n",
      "loss on test: 0.77, accuracy on test: 0.78\n"
     ]
    }
   ],
   "source": [
    "loss, accuracy = model.evaluate(X_test, y_test)\n",
    "print(f'loss on test: {loss:.2f}, accuracy on test: {accuracy:.2f}')"
   ]
  },
  {
   "cell_type": "code",
   "execution_count": 56,
   "metadata": {},
   "outputs": [],
   "source": [
    "predictions = model.predict(X_test)"
   ]
  },
  {
   "cell_type": "code",
   "execution_count": 57,
   "metadata": {},
   "outputs": [],
   "source": [
    "predictions[np.where(predictions>0.5)]=1\n",
    "predictions[np.where(predictions<0.5)]=0"
   ]
  },
  {
   "cell_type": "code",
   "execution_count": 58,
   "metadata": {},
   "outputs": [
    {
     "name": "stdout",
     "output_type": "stream",
     "text": [
      "224\n"
     ]
    }
   ],
   "source": [
    "print(int(np.sum(predictions[np.where(predictions==1)])))"
   ]
  },
  {
   "cell_type": "code",
   "execution_count": 59,
   "metadata": {},
   "outputs": [
    {
     "name": "stdout",
     "output_type": "stream",
     "text": [
      "[[4492   11]\n",
      " [1317  213]]\n",
      "[4492   11 1317  213]\n",
      "              precision    recall  f1-score   support\n",
      "\n",
      "       <=50K       0.77      1.00      0.87      4503\n",
      "        >50K       0.95      0.14      0.24      1530\n",
      "\n",
      "    accuracy                           0.78      6033\n",
      "   macro avg       0.86      0.57      0.56      6033\n",
      "weighted avg       0.82      0.78      0.71      6033\n",
      "\n"
     ]
    }
   ],
   "source": [
    "from sklearn.metrics import confusion_matrix\n",
    "# print(confusion_matrix(y_true=y_test, y_pred=y_test_pred))\n",
    "cm = confusion_matrix(y_true=y_test, y_pred=predictions)\n",
    "print(cm)\n",
    "print(confusion_matrix(y_test, predictions).ravel()) #this will print true negative, false positive, false negative, true positive\n",
    "\n",
    "from sklearn.metrics import classification_report\n",
    "target_names = ['<=50K', '>50K']\n",
    "print(classification_report(y_test, predictions, target_names = target_names))"
   ]
  },
  {
   "cell_type": "code",
   "execution_count": null,
   "metadata": {},
   "outputs": [],
   "source": [
    "import matplotlib.pyplot as plt\n",
    "fig, ax = plt.subplots(figsize=(6,6))\n",
    "ax.plot(range(50), history.history['loss'],color='red')\n",
    "ax.plot(range(50), np.array(history.history['accuracy'])*100,color='blue')\n",
    "ax.plot(range(50), history.history['val_loss'],color='green')\n",
    "ax.plot(range(50), np.array(history.history['val_accuracy'])*100,color='purple')\n",
    "ax.set_xlabel(\"Epoches\")\n",
    "ax.set_ylabel(\"Loss/Accuracy\")\n",
    "ax.set_title(\"Training and testing loss/accuracy\")\n",
    "plt.legend(['loss','accuracy','validation_loss','validation_accuracy'])\n",
    "plt.show()"
   ]
  }
 ],
 "metadata": {
  "kernelspec": {
   "display_name": "Environment with tf GPU",
   "language": "python",
   "name": "tf-gpu"
  },
  "language_info": {
   "codemirror_mode": {
    "name": "ipython",
    "version": 3
   },
   "file_extension": ".py",
   "mimetype": "text/x-python",
   "name": "python",
   "nbconvert_exporter": "python",
   "pygments_lexer": "ipython3",
   "version": "3.9.0"
  }
 },
 "nbformat": 4,
 "nbformat_minor": 2
}
